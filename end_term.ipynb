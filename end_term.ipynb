{
  "nbformat": 4,
  "nbformat_minor": 0,
  "metadata": {
    "colab": {
      "name": "end-term.ipynb",
      "provenance": [],
      "collapsed_sections": [],
      "authorship_tag": "ABX9TyP1CUy/avCv8IaxsyNG4yHL",
      "include_colab_link": true
    },
    "kernelspec": {
      "name": "python3",
      "display_name": "Python 3"
    },
    "language_info": {
      "name": "python"
    }
  },
  "cells": [
    {
      "cell_type": "markdown",
      "metadata": {
        "id": "view-in-github",
        "colab_type": "text"
      },
      "source": [
        "<a href=\"https://colab.research.google.com/github/NurlanRazak/is2_final/blob/master/end_term.ipynb\" target=\"_parent\"><img src=\"https://colab.research.google.com/assets/colab-badge.svg\" alt=\"Open In Colab\"/></a>"
      ]
    },
    {
      "cell_type": "code",
      "source": [
        "#Nurlan Razak"
      ],
      "metadata": {
        "id": "nA-0rAeFJF7q"
      },
      "execution_count": null,
      "outputs": []
    },
    {
      "cell_type": "code",
      "source": [
        "import matplotlib.pyplot as plt\n",
        "import numpy as np\n",
        "import os\n",
        "import PIL\n",
        "import tensorflow as tf\n",
        "\n",
        "from tensorflow import keras\n",
        "from tensorflow.keras import layers\n",
        "from tensorflow.keras.models import Sequential\n",
        "\n",
        "\n",
        "import cv2\n",
        "\n",
        "#Encoding and Split data into Train/Test Sets\n",
        "from sklearn.preprocessing import LabelEncoder\n",
        "from tensorflow.keras.utils import to_categorical\n",
        "from sklearn.model_selection import train_test_split\n",
        "\n",
        "#Tensorflow Keras CNN Model\n",
        "from tensorflow.keras.layers import Dense, Dropout, Flatten, Activation, Conv2D, MaxPooling2D\n",
        "from tensorflow.keras.preprocessing.image import ImageDataGenerator\n",
        "from tensorflow.keras.optimizers import Adam,SGD,Adagrad,Adadelta,RMSprop\n",
        "\n",
        "#Plot Images\n",
        "import matplotlib.pyplot as plt"
      ],
      "metadata": {
        "id": "iA-PsCcdgst8"
      },
      "execution_count": null,
      "outputs": []
    },
    {
      "cell_type": "code",
      "source": [
        "from google.colab import drive\n",
        "drive.mount('/content/drive')"
      ],
      "metadata": {
        "colab": {
          "base_uri": "https://localhost:8080/"
        },
        "id": "QhU8EHN3f7qG",
        "outputId": "479863ea-4779-4a1b-8fb0-1ee93235b7de"
      },
      "execution_count": null,
      "outputs": [
        {
          "output_type": "stream",
          "name": "stdout",
          "text": [
            "Drive already mounted at /content/drive; to attempt to forcibly remount, call drive.mount(\"/content/drive\", force_remount=True).\n"
          ]
        }
      ]
    },
    {
      "cell_type": "code",
      "source": [
        "data_dir = 'drive/MyDrive/data'\n",
        "os.listdir(data_dir)"
      ],
      "metadata": {
        "colab": {
          "base_uri": "https://localhost:8080/"
        },
        "id": "7DRHJmSFf2cC",
        "outputId": "9ac3ea2c-c257-4868-bc3a-2b0394f4f6cf"
      },
      "execution_count": null,
      "outputs": [
        {
          "output_type": "execute_result",
          "data": {
            "text/plain": [
              "['dandelion', 'rose', 'sunflower', 'daisy', 'tulip']"
            ]
          },
          "metadata": {},
          "execution_count": 16
        }
      ]
    },
    {
      "cell_type": "code",
      "source": [
        "data = []\n",
        "label = []\n",
        "\n",
        "SIZE = 128 #Crop the image to 128x128\n",
        "\n",
        "for folder in os.listdir(data_dir):\n",
        "    for file in os.listdir(os.path.join(data_dir, folder)):\n",
        "        if file.endswith(\"jpg\"):\n",
        "            label.append(folder)\n",
        "            img = cv2.imread(os.path.join(data_dir, folder, file))\n",
        "            img_rgb = cv2.cvtColor(img, cv2.COLOR_BGR2RGB)\n",
        "            im = cv2.resize(img_rgb, (SIZE,SIZE))\n",
        "            data.append(im)\n",
        "        else:\n",
        "            continue"
      ],
      "metadata": {
        "id": "nUTdqOYq39QE"
      },
      "execution_count": null,
      "outputs": []
    },
    {
      "cell_type": "code",
      "source": [
        "data_arr = np.array(data)\n",
        "label_arr = np.array(label)"
      ],
      "metadata": {
        "id": "j_NwZdiz4mfl"
      },
      "execution_count": null,
      "outputs": []
    },
    {
      "cell_type": "code",
      "source": [
        "encoder = LabelEncoder()\n",
        "y = encoder.fit_transform(label_arr)\n",
        "y = to_categorical(y,5)\n",
        "X = data_arr/255"
      ],
      "metadata": {
        "id": "XuzFOQKL4o1q"
      },
      "execution_count": null,
      "outputs": []
    },
    {
      "cell_type": "code",
      "source": [
        "#here we spilitting our dataset to 80/20\n",
        "X_train, X_test, y_train, y_test = train_test_split(X, y, test_size=0.20, random_state=10)"
      ],
      "metadata": {
        "id": "UKiUddZa4ujG"
      },
      "execution_count": null,
      "outputs": []
    },
    {
      "cell_type": "code",
      "source": [
        "model = Sequential()\n",
        "model.add(Conv2D(filters = 64, kernel_size = (3,3),padding = 'Same',activation ='relu', input_shape = (SIZE,SIZE,3)))\n",
        "model.add(MaxPooling2D(pool_size=(2,2)))\n",
        "\n",
        "model.add(Conv2D(filters = 128, kernel_size = (3,3),padding = 'Same',activation ='relu'))\n",
        "model.add(Conv2D(filters = 128, kernel_size = (3,3),padding = 'Same',activation ='relu'))\n",
        "model.add(Conv2D(filters = 128, kernel_size = (3,3),padding = 'Same',activation ='relu'))\n",
        "model.add(MaxPooling2D(pool_size=(2,2)))\n",
        "\n",
        "model.add(Flatten())\n",
        "model.add(Dense(128, activation='relu'))\n",
        "model.add(Dense(64, activation='relu'))\n",
        "model.add(Dropout(rate=0.5))\n",
        "model.add(Dense(5, activation = \"softmax\"))"
      ],
      "metadata": {
        "id": "hjTSlMH-4xDG"
      },
      "execution_count": null,
      "outputs": []
    },
    {
      "cell_type": "code",
      "source": [
        "datagen = ImageDataGenerator(\n",
        "        rotation_range=20,\n",
        "        zoom_range = 0.20,\n",
        "        width_shift_range=0.3,\n",
        "        height_shift_range=0.3,\n",
        "        horizontal_flip=True,\n",
        "        vertical_flip=True)\n",
        "\n",
        "datagen.fit(X_train)"
      ],
      "metadata": {
        "id": "rcYb7dyd6Aoa"
      },
      "execution_count": null,
      "outputs": []
    },
    {
      "cell_type": "code",
      "source": [
        "model.compile(optimizer=Adam(lr=0.0001),loss='categorical_crossentropy',metrics=['accuracy'])\n",
        "batch_size=32\n",
        "epochs=3\n",
        "history = model.fit_generator(datagen.flow(X_train,y_train, batch_size=batch_size),\n",
        "                              epochs = epochs,\n",
        "                              validation_data = (X_test,y_test),\n",
        "                              verbose = 1)"
      ],
      "metadata": {
        "colab": {
          "base_uri": "https://localhost:8080/"
        },
        "id": "60L7X4TduCc0",
        "outputId": "45751e6a-aadd-468e-8a79-6731f68689e6"
      },
      "execution_count": null,
      "outputs": [
        {
          "metadata": {
            "tags": null
          },
          "name": "stderr",
          "output_type": "stream",
          "text": [
            "/usr/local/lib/python3.7/dist-packages/keras/optimizer_v2/adam.py:105: UserWarning: The `lr` argument is deprecated, use `learning_rate` instead.\n",
            "  super(Adam, self).__init__(name, **kwargs)\n",
            "/usr/local/lib/python3.7/dist-packages/ipykernel_launcher.py:7: UserWarning: `Model.fit_generator` is deprecated and will be removed in a future version. Please use `Model.fit`, which supports generators.\n",
            "  import sys\n"
          ]
        },
        {
          "output_type": "stream",
          "name": "stdout",
          "text": [
            "Epoch 1/3\n",
            "108/108 [==============================] - 756s 7s/step - loss: 1.3635 - accuracy: 0.4069 - val_loss: 1.1653 - val_accuracy: 0.5046\n",
            "Epoch 2/3\n",
            "108/108 [==============================] - 749s 7s/step - loss: 1.2967 - accuracy: 0.4416 - val_loss: 1.1218 - val_accuracy: 0.5463\n",
            "Epoch 3/3\n",
            "108/108 [==============================] - 745s 7s/step - loss: 1.2394 - accuracy: 0.4810 - val_loss: 1.0493 - val_accuracy: 0.5683\n"
          ]
        }
      ]
    },
    {
      "cell_type": "code",
      "source": [
        "predictions = model.predict(X_test)"
      ],
      "metadata": {
        "id": "2nymqFSFv_JC"
      },
      "execution_count": null,
      "outputs": []
    },
    {
      "cell_type": "code",
      "source": [
        "from sklearn.metrics import classification_report\n",
        "y_pred=np.argmax(predictions, axis=1)\n",
        "y_test=np.argmax(y_test, axis=1)\n",
        "cm = confusion_matrix(y_test, y_pred)\n",
        "print(cm)"
      ],
      "metadata": {
        "colab": {
          "base_uri": "https://localhost:8080/"
        },
        "id": "ETj_Ln8HHVFF",
        "outputId": "117cee65-37b3-43fa-db73-151bcd9a7951"
      },
      "execution_count": null,
      "outputs": [
        {
          "output_type": "stream",
          "name": "stdout",
          "text": [
            "[[ 55  57   5  10   9]\n",
            " [ 13 139   3  26  19]\n",
            " [ 13  15  59   5  77]\n",
            " [  5  17   1 106  18]\n",
            " [ 12  19  34  15 132]]\n"
          ]
        }
      ]
    },
    {
      "cell_type": "code",
      "source": [
        "matrix = classification_report(y_test,y_pred)\n",
        "print('Classification report : \\n',matrix)"
      ],
      "metadata": {
        "colab": {
          "base_uri": "https://localhost:8080/"
        },
        "id": "EwWCQ5evGgEU",
        "outputId": "169a1d38-6fb4-43b4-c0e0-a52a866dbfb9"
      },
      "execution_count": null,
      "outputs": [
        {
          "output_type": "stream",
          "name": "stdout",
          "text": [
            "Classification report : \n",
            "               precision    recall  f1-score   support\n",
            "\n",
            "           0       0.56      0.40      0.47       136\n",
            "           1       0.56      0.69      0.62       200\n",
            "           2       0.58      0.35      0.44       169\n",
            "           3       0.65      0.72      0.69       147\n",
            "           4       0.52      0.62      0.57       212\n",
            "\n",
            "    accuracy                           0.57       864\n",
            "   macro avg       0.57      0.56      0.56       864\n",
            "weighted avg       0.57      0.57      0.56       864\n",
            "\n"
          ]
        }
      ]
    },
    {
      "cell_type": "code",
      "source": [
        ""
      ],
      "metadata": {
        "id": "CNqJKl8-IT-2"
      },
      "execution_count": null,
      "outputs": []
    }
  ]
}